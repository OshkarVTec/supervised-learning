{
 "cells": [
  {
   "cell_type": "markdown",
   "id": "a208b138",
   "metadata": {},
   "source": [
    "# Actividad 2.2: Aprendizaje supervisado\n",
    "Oskar Villa\n",
    "\n",
    "Cruz Pérez\n",
    "\n",
    "Rogelio Hernández"
   ]
  },
  {
   "cell_type": "markdown",
   "id": "ea09e0fa",
   "metadata": {},
   "source": [
    "## Investigación documental: Random Forest"
   ]
  },
  {
   "cell_type": "markdown",
   "id": "64cc4619",
   "metadata": {},
   "source": [
    "### Descripción General\n",
    "\n",
    "El clasificador **Random Forest** es un algoritmo de aprendizaje supervisado que pertenece a la categoría de métodos de *ensamble*. Su funcionamiento se basa en la construcción de múltiples árboles de decisión durante el entrenamiento, cuya salida se combina para producir una predicción final más precisa y robusta. Para tareas de clasificación, el resultado se determina por votación mayoritaria entre los árboles individuales.\n",
    "\n",
    "### Funcionamiento\n",
    "\n",
    "Random Forest emplea la técnica de *bootstrap aggregating* (también conocida como *bagging*), que consiste en:\n",
    "\n",
    "1. Generar subconjuntos aleatorios del conjunto de datos original, con reemplazo.\n",
    "2. Entrenar un árbol de decisión independiente en cada subconjunto.\n",
    "3. En cada división del árbol, se selecciona aleatoriamente un subconjunto de características para elegir la mejor partición.\n",
    "4. La predicción final se realiza mediante votación entre los árboles (en clasificación) o promedio (en regresión).\n",
    "\n",
    "Este enfoque permite reducir la varianza del modelo y mejora su capacidad de generalización.\n",
    "\n",
    "### Tipos de Datos que Maneja\n",
    "\n",
    "El clasificador Random Forest puede manejar:\n",
    "\n",
    "- Datos estructurados en formato tabular.\n",
    "- Variables tanto numéricas como categóricas.\n",
    "- Conjuntos de datos con valores faltantes o ruidosos.\n",
    "- Variables no escaladas (no requiere normalización o estandarización).\n",
    "\n",
    "### Principales Parámetros\n",
    "\n",
    "| Parámetro            | Descripción                                                                 |\n",
    "|----------------------|-----------------------------------------------------------------------------|\n",
    "| `n_estimators`       | Número de árboles que compondrán el bosque.                                |\n",
    "| `max_depth`          | Profundidad máxima permitida de los árboles.                               |\n",
    "| `min_samples_split`  | Número mínimo de muestras requeridas para dividir un nodo.                 |\n",
    "| `max_features`       | Número máximo de características consideradas para dividir en cada nodo.   |\n",
    "| `bootstrap`          | Indica si se utiliza muestreo con reemplazo al generar los subconjuntos.  |\n",
    "| `criterion`          | Función empleada para medir la calidad de una división (`gini`, `entropy`).|\n",
    "\n",
    "\n",
    "### Referencias\n",
    "\n",
    "- Breiman, L. (2001). *Random Forests*. *Machine Learning*, 45(1), 5–32.  \n",
    "  [https://link.springer.com/article/10.1023/A:1010933404324](https://link.springer.com/article/10.1023/A:1010933404324)\n",
    "- Scikit-learn documentation. *Random Forest Classifier*.  \n",
    "  [https://scikit-learn.org/stable/modules/generated/sklearn.ensemble.RandomForestClassifier.html](https://scikit-learn.org/stable/modules/generated/sklearn.ensemble.RandomForestClassifier.html)\n",
    "- Géron, A. (2019). *Hands-On Machine Learning with Scikit-Learn, Keras, and TensorFlow*"
   ]
  },
  {
   "cell_type": "markdown",
   "id": "04a2898c",
   "metadata": {},
   "source": [
    "## Datos y objetivo de clasificación"
   ]
  },
  {
   "cell_type": "markdown",
   "id": "cbeec633",
   "metadata": {},
   "source": [
    "> Los datos se componen de dos archivos con distintos tipos de vinos (red y white). Estos datos se procesarán de la siguiente manera:  \n",
    "> • Seleccionar un tipo de vino  \n",
    "> • Seleccionar solo dos clases a analizar, y determinar cuál será la clase objetivo (por ejemplo: Trabajaremos con la clase 5 y 7, pero nuestra clase objetivo es la 5. **IMPORTANTE**: Recuerda que, aunque los tipos de vino se determinan mediante un entero, son atributos ordinales).  \n",
    "> • Determinar qué métrica de evaluación utilizarán para estos experimentos  \n",
    "> • De acuerdo con la selección de los puntos anteriores, generar un conjunto de entrenamiento y uno de evaluación con el 70% y 30% de las instancias respectivamente. Cuidar que se conserve la proporción de las dos clases en cada conjunto.  \n",
    "> • Determinar si necesitan o no transformación de datos, en caso de necesitarla, generar los archivos correspondientes, en caso de que no, justificar su elección.  "
   ]
  },
  {
   "cell_type": "markdown",
   "id": "54c4c0e1",
   "metadata": {},
   "source": [
    "### Objetivo de clasificación\n",
    "* Se utilizará vino tinto (red)\n",
    "* Se usarán las clases 4 y 7. La clase objetivo es 4.\n",
    "* Las métricas de evaluación serán accuracy y F1 score, ya que F1 es una métrica que combina Recall y Precision."
   ]
  },
  {
   "cell_type": "markdown",
   "id": "068d4b69",
   "metadata": {},
   "source": [
    "## Implementación de algoritmos"
   ]
  },
  {
   "cell_type": "markdown",
   "id": "2f4e24fe",
   "metadata": {},
   "source": [
    "> Implementa los siguientes algoritmos de clasificación (puede ser código propio o con librerías especializadas):\n",
    "> 1. Knn  \n",
    "> 2. Árbol de decisión  \n",
    "> 3. Algoritmo investigado en el punto 1 (puede ser con la ayuda de una librería o con código propio)  \n",
    "\n",
    "> Recuerda agregar el código para evaluar los modelos con accuracy y la métrica seleccionada en los puntos anteriores, puede ser `classification_report` de Scikit-learn o programar tus propias métricas.\n"
   ]
  },
  {
   "cell_type": "markdown",
   "id": "cb2afec9",
   "metadata": {},
   "source": [
    "## Experimentación y evaluación"
   ]
  },
  {
   "cell_type": "markdown",
   "id": "001dfbae",
   "metadata": {},
   "source": [
    "> Para cada algoritmo, generen al menos 8 experimentos variando los parámetros.  \n",
    "> * Para cada modelo, clasifica el conjunto de entrenamiento y evaluación, recuerda obtener las métricas para cada uno.  \n",
    "> * Muestren la exactitud en gráficas, de tal modo que se puede apreciar si existe overfitting y/o underfitting. Describe las gráficas obtenidas por modelo.  \n",
    "> * Muestra los resultados de la métrica seleccionada por medio de tablas y/o gráficas. Redacta los hallazgos que consideren importantes.  "
   ]
  },
  {
   "cell_type": "markdown",
   "id": "caee726d",
   "metadata": {},
   "source": [
    "## Conclusiones"
   ]
  },
  {
   "cell_type": "markdown",
   "id": "32911fe6",
   "metadata": {},
   "source": [
    "> Redacta las conclusiones del experimento, toma en cuenta los siguientes puntos:  \n",
    "> • ¿Qué algoritmo tuvo un mejor desempeño? ¿Con qué parámetros se logró esto?  \n",
    "> • ¿Hay diferencia significativa entre los diferentes algoritmos?  \n",
    "> • ¿Los resultados obtenidos permiten usar estos modelos en sector vitivinícola? ¿Por qué?  "
   ]
  }
 ],
 "metadata": {
  "language_info": {
   "name": "python"
  }
 },
 "nbformat": 4,
 "nbformat_minor": 5
}
