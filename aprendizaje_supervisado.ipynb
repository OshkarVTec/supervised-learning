{
 "cells": [
  {
   "cell_type": "markdown",
   "id": "a208b138",
   "metadata": {},
   "source": [
    "# Actividad 2.2: Aprendizaje supervisado\n",
    "Oskar Villa\n",
    "\n",
    "Cruz Pérez\n",
    "\n",
    "Rogelio Hernández"
   ]
  },
  {
   "cell_type": "markdown",
   "id": "ea09e0fa",
   "metadata": {},
   "source": [
    "## Investigación documental"
   ]
  },
  {
   "cell_type": "markdown",
   "id": "d4fa574a",
   "metadata": {},
   "source": [
    "> Investiga un clasificador y explica sus características principales (Cómo funciona, tipos de datos que\n",
    "maneja, parámetros, tipo de modelo que genera). Omite los ya vistos en clase (knn y árbol) y las\n",
    "redes neuronales (puede ser suport vector machine, clasificador bayesiano, alguna variante de árbol\n",
    "de decisión o incluso algún método de ensamble). Recuerda agregar las fuentes consultadas."
   ]
  },
  {
   "cell_type": "markdown",
   "id": "04a2898c",
   "metadata": {},
   "source": [
    "## Datos y objetivo de clasificación"
   ]
  },
  {
   "cell_type": "markdown",
   "id": "cbeec633",
   "metadata": {},
   "source": [
    "> Los datos se componen de dos archivos con distintos tipos de vinos (red y white). Estos datos se procesarán de la siguiente manera:  \n",
    "> • Seleccionar un tipo de vino  \n",
    "> • Seleccionar solo dos clases a analizar, y determinar cuál será la clase objetivo (por ejemplo: Trabajaremos con la clase 5 y 7, pero nuestra clase objetivo es la 5. **IMPORTANTE**: Recuerda que, aunque los tipos de vino se determinan mediante un entero, son atributos ordinales).  \n",
    "> • Determinar qué métrica de evaluación utilizarán para estos experimentos  \n",
    "> • De acuerdo con la selección de los puntos anteriores, generar un conjunto de entrenamiento y uno de evaluación con el 70% y 30% de las instancias respectivamente. Cuidar que se conserve la proporción de las dos clases en cada conjunto.  \n",
    "> • Determinar si necesitan o no transformación de datos, en caso de necesitarla, generar los archivos correspondientes, en caso de que no, justificar su elección.  "
   ]
  },
  {
   "cell_type": "markdown",
   "id": "068d4b69",
   "metadata": {},
   "source": [
    "## Implementación de algoritmos"
   ]
  },
  {
   "cell_type": "markdown",
   "id": "2f4e24fe",
   "metadata": {},
   "source": [
    "> Implementa los siguientes algoritmos de clasificación (puede ser código propio o con librerías especializadas):\n",
    "> 1. Knn  \n",
    "> 2. Árbol de decisión  \n",
    "> 3. Algoritmo investigado en el punto 1 (puede ser con la ayuda de una librería o con código propio)  \n",
    "\n",
    "> Recuerda agregar el código para evaluar los modelos con accuracy y la métrica seleccionada en los puntos anteriores, puede ser `classification_report` de Scikit-learn o programar tus propias métricas.\n"
   ]
  },
  {
   "cell_type": "markdown",
   "id": "cb2afec9",
   "metadata": {},
   "source": [
    "## Experimentación y evaluación"
   ]
  },
  {
   "cell_type": "markdown",
   "id": "001dfbae",
   "metadata": {},
   "source": [
    "> Para cada algoritmo, generen al menos 8 experimentos variando los parámetros.  \n",
    "> * Para cada modelo, clasifica el conjunto de entrenamiento y evaluación, recuerda obtener las métricas para cada uno.  \n",
    "> * Muestren la exactitud en gráficas, de tal modo que se puede apreciar si existe overfitting y/o underfitting. Describe las gráficas obtenidas por modelo.  \n",
    "> * Muestra los resultados de la métrica seleccionada por medio de tablas y/o gráficas. Redacta los hallazgos que consideren importantes.  "
   ]
  },
  {
   "cell_type": "markdown",
   "id": "caee726d",
   "metadata": {},
   "source": [
    "## Conclusiones"
   ]
  },
  {
   "cell_type": "markdown",
   "id": "32911fe6",
   "metadata": {},
   "source": [
    "> Redacta las conclusiones del experimento, toma en cuenta los siguientes puntos:  \n",
    "> • ¿Qué algoritmo tuvo un mejor desempeño? ¿Con qué parámetros se logró esto?  \n",
    "> • ¿Hay diferencia significativa entre los diferentes algoritmos?  \n",
    "> • ¿Los resultados obtenidos permiten usar estos modelos en sector vitivinícola? ¿Por qué?  "
   ]
  }
 ],
 "metadata": {
  "language_info": {
   "name": "python"
  }
 },
 "nbformat": 4,
 "nbformat_minor": 5
}
